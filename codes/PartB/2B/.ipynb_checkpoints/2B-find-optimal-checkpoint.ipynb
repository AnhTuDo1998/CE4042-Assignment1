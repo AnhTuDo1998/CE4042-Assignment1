{
 "cells": [
  {
   "cell_type": "code",
   "execution_count": 1,
   "metadata": {},
   "outputs": [],
   "source": [
    "import tensorflow as tf\n",
    "from tensorflow import keras\n",
    "import numpy as np\n",
    "import matplotlib.pyplot as plt\n",
    "\n",
    "from sklearn.model_selection import train_test_split, KFold, cross_val_score\n",
    "from sklearn.preprocessing import StandardScaler\n",
    "from sklearn.pipeline import Pipeline\n",
    "\n",
    "import os\n",
    "if not os.path.isdir('figures'):\n",
    "    os.makedirs('figures')"
   ]
  },
  {
   "cell_type": "code",
   "execution_count": 2,
   "metadata": {},
   "outputs": [],
   "source": [
    "epochs = 1500\n",
    "batch_size = 8\n",
    "num_neurons = 10\n",
    "seed = 10\n",
    "\n",
    "beta = 1e-3\n",
    "alpha = 1e-3\n",
    "\n",
    "l2=keras.regularizers.l2(beta)\n",
    "sgd=keras.optimizers.SGD(learning_rate=alpha)\n",
    "\n",
    "histories={}\n",
    "\n",
    "np.random.seed(seed)\n",
    "tf.random.set_seed(seed)"
   ]
  },
  {
   "cell_type": "code",
   "execution_count": 3,
   "metadata": {},
   "outputs": [],
   "source": [
    "#read and divide data into test and train sets \n",
    "admit_data = np.genfromtxt('admission_predict.csv', delimiter= ',')\n",
    "X_data, Y_data = admit_data[1:,1:8], admit_data[1:,-1]\n",
    "Y_data = Y_data.reshape(Y_data.shape[0], 1)\n",
    "\n",
    "X_train, X_test, Y_train, Y_test = train_test_split(X_data,Y_data,test_size = 0.3, random_state = seed, shuffle=True)\n",
    "\n",
    "#Preprocess by standardizing the Xtrain and Xtest based on Xtrain stats\n",
    "scaler = StandardScaler()\n",
    "scaler.fit(X_train)\n",
    "\n",
    "X_train = scaler.transform(X_train)\n",
    "X_test = scaler.transform(X_test)\n"
   ]
  },
  {
   "cell_type": "code",
   "execution_count": 4,
   "metadata": {},
   "outputs": [],
   "source": [
    "train_data_6_feature = []\n",
    "test_data_6_feature = []\n",
    "\n",
    "#Make train and test set for 6 features RFE.\n",
    "for feature_idx in range(7):\n",
    "    temp = np.delete(X_train,obj=feature_idx,axis=1)\n",
    "    train_data_6_feature.append(temp)\n",
    "    temp = np.delete(X_test,obj=feature_idx,axis=1)\n",
    "    test_data_6_feature.append(temp)\n",
    "    \n",
    "#keep model with lowest m.s.e (model that removed feature 6 Research has lowest average test mse)\n",
    "X6_train, X6_test = train_data_6_feature[6],test_data_6_feature[6]"
   ]
  },
  {
   "cell_type": "code",
   "execution_count": 5,
   "metadata": {},
   "outputs": [],
   "source": [
    "train_data_5_feature = []\n",
    "test_data_5_feature = []\n",
    "\n",
    "#Make train and test set for 5 features RFE.\n",
    "for feature_idx in range(6):\n",
    "    temp = np.delete(X6_train,obj=feature_idx,axis=1)\n",
    "    train_data_5_feature.append(temp)\n",
    "    temp = np.delete(X6_test,obj=feature_idx,axis=1)\n",
    "    test_data_5_feature.append(temp)\n",
    "    \n",
    "#Keep model with lowest MSE (from removing the feature 3 or SOP)\n",
    "X5_train, X5_test = train_data_5_feature[3],test_data_5_feature[3]"
   ]
  },
  {
   "cell_type": "code",
   "execution_count": 6,
   "metadata": {},
   "outputs": [
    {
     "name": "stdout",
     "output_type": "stream",
     "text": [
      "[[ 1.42832554  1.60033916  0.81007205  1.61476636  0.63111055  1.75693791]\n",
      " [ 2.03141     2.09401705  1.68922001  1.12224503  1.17990233  1.65722655]\n",
      " [-1.07016722 -0.86805029 -0.94822387 -0.35531896  0.63111055  0.21141182]\n",
      " ...\n",
      " [-0.20861799 -0.3743724  -0.06907591  0.13720237 -1.0152648  -0.50318626]\n",
      " [-1.41478691 -1.19716888 -0.06907591 -1.34036162 -0.46647302  0.0950819 ]\n",
      " [-0.29477291 -0.86805029 -0.06907591 -0.84784029 -1.0152648   0.12831902]]\n"
     ]
    }
   ],
   "source": [
    "print(X6_train)"
   ]
  },
  {
   "cell_type": "code",
   "execution_count": 7,
   "metadata": {},
   "outputs": [
    {
     "name": "stdout",
     "output_type": "stream",
     "text": [
      "[[ 1.42832554  1.60033916  0.81007205  0.63111055  1.75693791]\n",
      " [ 2.03141     2.09401705  1.68922001  1.17990233  1.65722655]\n",
      " [-1.07016722 -0.86805029 -0.94822387  0.63111055  0.21141182]\n",
      " ...\n",
      " [-0.20861799 -0.3743724  -0.06907591 -1.0152648  -0.50318626]\n",
      " [-1.41478691 -1.19716888 -0.06907591 -0.46647302  0.0950819 ]\n",
      " [-0.29477291 -0.86805029 -0.06907591 -1.0152648   0.12831902]]\n"
     ]
    }
   ],
   "source": [
    "print(X5_train)"
   ]
  },
  {
   "cell_type": "code",
   "execution_count": 8,
   "metadata": {
    "scrolled": true
   },
   "outputs": [
    {
     "name": "stdout",
     "output_type": "stream",
     "text": [
      "[[-0.72554753 -0.2098131  -0.06907591  0.13720237 -1.0152648  -0.6527533 ]\n",
      " [ 0.39446647  0.28386479  0.81007205  0.6297237   0.63111055  0.12831902]\n",
      " [-1.15632214 -1.19716888 -0.94822387 -0.35531896  0.08231877 -0.9020317 ]\n",
      " [-1.84556153 -1.36172818 -0.94822387 -0.84784029 -0.46647302 -1.58339266]\n",
      " [-0.03630815 -0.86805029 -0.06907591 -1.34036162 -0.46647302 -1.99885666]\n",
      " [-0.46708276 -1.36172818 -1.82737184 -0.84784029 -0.46647302 -0.28714498]\n",
      " [ 2.03141     2.09401705  0.81007205  1.61476636  1.72869412  1.49104095]\n",
      " [ 1.2560157   1.60033916  0.81007205  1.12224503  1.72869412  1.35809247]\n",
      " [ 1.2560157   1.27122056  1.68922001  0.6297237   0.08231877  1.39132959]\n",
      " [-0.9840123   0.11930549  1.68922001 -0.35531896 -0.46647302 -0.20405218]\n",
      " [ 0.91139601 -0.5389317   1.68922001 -0.35531896  0.08231877  0.39421598]\n",
      " [ 0.48062139  0.44842408  0.81007205  0.6297237   1.72869412  0.87615422]\n",
      " [ 0.39446647  0.28386479 -0.06907591 -0.35531896 -0.46647302 -0.10434082]\n",
      " [-0.12246307 -1.19716888 -1.82737184 -1.34036162 -1.0152648  -1.08483586]\n",
      " [ 1.68679031  1.92945775  1.68922001  0.6297237   0.08231877  1.98959775]\n",
      " [ 1.08370585  0.94210197  1.68922001  1.61476636  1.17990233  1.40794815]\n",
      " [-1.7594066  -2.01996536 -0.94822387 -0.35531896 -1.56405658 -1.76619682]\n",
      " [ 0.73908616  0.77754267  0.81007205  0.13720237  0.08231877  0.52716446]\n",
      " [ 1.34217062  1.60033916  0.81007205  1.12224503  0.63111055  0.82629854]\n",
      " [ 0.65293124 -0.04525381  1.68922001  0.13720237  0.63111055  0.0950819 ]\n",
      " [ 1.94525508  1.92945775  1.68922001  1.12224503  0.63111055  1.82341215]\n",
      " [-0.03630815  0.44842408 -0.06907591  0.6297237   1.17990233  0.29450462]\n",
      " [ 0.73908616  0.44842408  0.81007205  0.13720237  0.63111055  0.11170046]\n",
      " [-0.46708276 -0.86805029 -0.06907591  1.12224503  0.63111055  0.06184478]\n",
      " [ 0.30831155 -0.5389317  -0.06907591  0.13720237  1.17990233 -0.43671202]\n",
      " [ 0.30831155  0.44842408 -0.94822387  0.6297237   0.08231877 -0.0711037 ]\n",
      " [ 0.04984678 -0.70349099 -0.94822387 -0.84784029 -1.56405658 -0.75246466]\n",
      " [ 1.60063539  1.27122056  0.81007205  1.12224503  1.17990233  1.79017503]\n",
      " [-0.20861799 -0.86805029 -0.94822387 -1.34036162 -1.0152648  -0.60289762]\n",
      " [-0.38092784 -0.70349099 -0.06907591  0.13720237  0.63111055  0.29450462]\n",
      " [ 0.65293124 -0.04525381  0.81007205  0.6297237   1.17990233  0.44407166]\n",
      " [ 0.39446647  0.28386479 -0.06907591 -0.35531896  0.63111055 -0.66937186]\n",
      " [-0.20861799  0.44842408 -0.06907591  0.6297237   0.63111055  0.32774174]\n",
      " [ 0.48062139  0.28386479  1.68922001  1.12224503  0.08231877  0.32774174]\n",
      " [-0.46708276 -0.3743724  -0.94822387 -0.35531896 -1.56405658 -0.80232034]\n",
      " [ 0.56677631  0.94210197  0.81007205  0.6297237   1.17990233  1.04233983]\n",
      " [-0.46708276 -1.52628747 -1.82737184 -2.32540428 -1.0152648  -1.8991453 ]\n",
      " [-0.9840123  -0.2098131  -0.94822387 -0.35531896 -0.46647302 -0.7358461 ]\n",
      " [ 0.82524108  0.11930549 -0.06907591 -0.35531896  0.08231877  0.47730878]\n",
      " [ 0.82524108  1.43577986 -0.94822387  1.12224503 -0.46647302  0.79306142]\n",
      " [ 1.34217062  1.43577986  1.68922001  1.61476636  1.72869412  1.12543263]\n",
      " [ 0.82524108  0.77754267  0.81007205  0.6297237   0.08231877  0.85953566]\n",
      " [ 0.91139601  1.10666127 -0.06907591 -0.35531896 -0.46647302  0.69335006]\n",
      " [-1.41478691 -0.3743724  -1.82737184 -2.32540428 -1.56405658 -1.33411426]\n",
      " [ 0.04984678 -1.19716888 -0.94822387 -0.35531896 -1.0152648  -0.05448514]\n",
      " [-1.15632214 -0.3743724   1.68922001  1.61476636  1.17990233  0.07846334]\n",
      " [ 0.1360017  -1.19716888 -0.94822387 -0.84784029  0.08231877 -0.10434082]\n",
      " [ 0.22215662 -0.2098131  -0.06907591  0.13720237 -1.0152648  -0.45333058]\n",
      " [-0.12246307 -0.3743724  -0.94822387 -1.34036162 -1.0152648  -1.58339266]\n",
      " [ 0.99755093  0.77754267  0.81007205  0.6297237   1.17990233  0.82629854]\n",
      " [ 1.2560157   2.09401705 -0.06907591  0.6297237   0.63111055  0.5936387 ]\n",
      " [-0.89785737  0.44842408 -0.94822387  0.13720237  0.63111055 -0.25390786]\n",
      " [ 1.85910016  1.27122056  1.68922001  1.12224503  1.72869412  1.04233983]\n",
      " [ 1.34217062  1.92945775  0.81007205  1.61476636  1.17990233  1.05895839]\n",
      " [-2.27633614 -1.19716888 -1.82737184 -1.83288295 -1.56405658 -1.7329597 ]\n",
      " [-0.38092784 -1.52628747 -1.82737184  0.13720237 -0.46647302 -0.70260898]\n",
      " [ 0.73908616  0.44842408 -0.94822387 -0.35531896 -1.0152648   0.2612675 ]\n",
      " [-0.20861799  0.11930549 -0.06907591  1.12224503  0.08231877 -0.76908322]\n",
      " [-0.72554753 -0.70349099 -0.94822387 -0.35531896  0.08231877 -0.18743362]\n",
      " [-0.38092784 -0.5389317  -0.06907591  0.13720237  0.08231877 -0.30376354]\n",
      " [-0.81170245 -1.03260958 -0.06907591  0.6297237  -0.46647302 -0.66937186]\n",
      " [ 0.73908616  0.11930549  0.81007205  1.12224503  0.63111055  0.7598243 ]\n",
      " [ 0.91139601  0.94210197 -0.06907591  0.13720237 -0.46647302  0.0950819 ]\n",
      " [ 0.65293124  0.94210197  0.81007205  1.12224503  0.63111055  0.31112318]\n",
      " [-0.46708276 -0.5389317  -0.94822387 -0.84784029  0.08231877 -0.20405218]\n",
      " [ 1.16986077  1.10666127 -0.06907591  1.12224503  1.17990233  1.05895839]\n",
      " [ 0.56677631  0.94210197 -0.06907591  0.6297237  -0.46647302  1.19190687]\n",
      " [-0.38092784  0.44842408 -0.94822387  0.13720237 -0.46647302 -0.12095938]\n",
      " [ 0.39446647  0.61298338  1.68922001  1.61476636  1.72869412  1.40794815]\n",
      " [-1.07016722 -0.70349099  1.68922001  1.61476636  0.63111055  0.06184478]\n",
      " [ 1.51448047  1.92945775  1.68922001  1.12224503  1.17990233  1.45780383]\n",
      " [ 0.99755093  0.11930549  0.81007205  1.12224503  0.63111055  0.95924703]\n",
      " [ 0.56677631  0.94210197 -0.06907591  0.6297237   0.63111055  0.46069022]\n",
      " [-0.38092784 -0.3743724  -0.94822387 -0.84784029 -0.46647302 -0.80232034]\n",
      " [ 1.51448047  1.43577986  0.81007205  0.6297237  -0.46647302 -1.00174306]\n",
      " [-0.29477291 -0.2098131  -0.94822387 -0.84784029 -1.56405658 -0.28714498]\n",
      " [ 1.60063539  1.76489845  1.68922001  1.12224503  0.08231877  1.39132959]\n",
      " [-1.24247707 -0.86805029 -0.06907591  0.13720237  1.72869412 -0.45333058]\n",
      " [ 0.73908616  0.61298338 -0.06907591 -0.35531896  0.08231877  0.16155614]\n",
      " [-1.58709676 -1.52628747 -0.94822387 -1.83288295 -1.0152648  -1.83267106]\n",
      " [ 0.56677631 -0.04525381 -0.06907591  0.13720237  0.08231877 -0.08772226]\n",
      " [-0.29477291 -1.03260958 -0.06907591 -0.84784029 -0.46647302 -0.93526882]\n",
      " [-0.46708276 -0.2098131  -0.94822387  0.13720237 -0.46647302 -0.5696605 ]\n",
      " [ 0.48062139 -0.04525381 -0.06907591  0.13720237  0.08231877 -0.2372893 ]\n",
      " [ 0.30831155  0.61298338  0.81007205  1.12224503  0.08231877  0.44407166]\n",
      " [-0.20861799 -0.2098131  -0.94822387  0.6297237   0.08231877 -0.58627906]\n",
      " [-0.38092784 -1.03260958 -0.94822387 -0.84784029  0.08231877 -0.93526882]\n",
      " [-0.03630815  0.28386479 -0.06907591  0.13720237 -0.46647302  0.2612675 ]\n",
      " [ 0.56677631  0.44842408  1.68922001  0.6297237   1.72869412  0.62687582]\n",
      " [ 0.39446647  0.77754267  1.68922001  1.61476636  1.72869412  0.7598243 ]\n",
      " [ 1.60063539  1.60033916  1.68922001  1.61476636  1.72869412  2.02283487]\n",
      " [ 0.99755093  1.27122056  0.81007205  1.12224503  0.63111055  0.9260099 ]\n",
      " [-0.29477291 -0.04525381 -0.06907591  0.6297237   1.17990233  0.14493758]\n",
      " [ 1.85910016  2.09401705  0.81007205  1.61476636  1.72869412  1.75693791]\n",
      " [ 0.73908616 -0.2098131  -0.06907591  0.13720237  0.63111055 -0.33700066]\n",
      " [ 0.91139601  0.77754267 -0.06907591 -0.35531896 -0.46647302  0.19479326]\n",
      " [-0.38092784 -0.04525381 -0.06907591 -0.35531896 -0.46647302 -0.2372893 ]\n",
      " [ 1.2560157   0.77754267  1.68922001  0.6297237   1.72869412  1.98959775]\n",
      " [-0.9840123  -0.04525381 -0.94822387 -0.84784029 -1.0152648  -0.30376354]\n",
      " [-0.38092784 -0.3743724  -0.06907591 -1.34036162 -0.46647302 -0.96850594]\n",
      " [-1.58709676 -1.36172818 -0.94822387  0.6297237  -1.56405658 -1.66648546]\n",
      " [ 0.04984678 -0.04525381 -0.94822387  0.13720237 -0.46647302 -0.53642338]\n",
      " [-1.32863199 -0.5389317  -0.94822387  0.13720237  0.08231877 -1.18454722]\n",
      " [ 0.04984678 -0.2098131  -0.94822387 -1.34036162  0.08231877 -0.80232034]\n",
      " [-0.55323768 -0.5389317  -0.06907591 -1.34036162  0.08231877 -0.38685634]\n",
      " [-1.7594066  -1.69084677 -0.94822387 -1.83288295 -1.56405658 -1.33411426]\n",
      " [ 1.08370585  0.61298338  0.81007205  1.12224503  0.63111055  0.6767315 ]\n",
      " [-1.58709676 -1.52628747 -0.94822387  0.6297237  -0.46647302 -0.95188738]\n",
      " [-0.38092784 -0.5389317  -0.06907591  0.13720237  0.63111055 -0.85217602]\n",
      " [ 0.04984678 -0.3743724  -0.06907591  0.13720237 -0.46647302 -0.0711037 ]\n",
      " [-0.55323768 -1.36172818 -0.94822387 -1.83288295 -1.56405658 -2.16504226]\n",
      " [-0.55323768 -0.86805029 -0.06907591  0.13720237  0.63111055 -0.96850594]\n",
      " [-0.81170245 -0.04525381 -0.94822387 -0.35531896  0.08231877 -0.13757794]\n",
      " [ 1.34217062  1.76489845  1.68922001  1.61476636  1.72869412  1.72370079]\n",
      " [-1.07016722 -1.69084677 -0.94822387 -1.83288295 -1.56405658 -1.60001122]\n",
      " [ 0.22215662 -0.2098131  -0.06907591  0.6297237  -0.46647302 -1.00174306]\n",
      " [-1.7594066  -1.36172818 -0.94822387 -0.84784029 -1.0152648  -0.95188738]\n",
      " [-0.72554753  0.28386479 -0.94822387 -0.35531896  0.63111055 -0.25390786]\n",
      " [-0.46708276 -0.5389317  -0.94822387 -1.34036162 -1.56405658 -0.50318626]\n",
      " [-0.46708276 -0.3743724  -0.06907591  0.13720237 -0.46647302 -0.25390786]]\n"
     ]
    }
   ],
   "source": [
    "print(X6_test)"
   ]
  },
  {
   "cell_type": "code",
   "execution_count": 9,
   "metadata": {
    "scrolled": true
   },
   "outputs": [
    {
     "name": "stdout",
     "output_type": "stream",
     "text": [
      "[[-0.72554753 -0.2098131  -0.06907591 -1.0152648  -0.6527533 ]\n",
      " [ 0.39446647  0.28386479  0.81007205  0.63111055  0.12831902]\n",
      " [-1.15632214 -1.19716888 -0.94822387  0.08231877 -0.9020317 ]\n",
      " [-1.84556153 -1.36172818 -0.94822387 -0.46647302 -1.58339266]\n",
      " [-0.03630815 -0.86805029 -0.06907591 -0.46647302 -1.99885666]\n",
      " [-0.46708276 -1.36172818 -1.82737184 -0.46647302 -0.28714498]\n",
      " [ 2.03141     2.09401705  0.81007205  1.72869412  1.49104095]\n",
      " [ 1.2560157   1.60033916  0.81007205  1.72869412  1.35809247]\n",
      " [ 1.2560157   1.27122056  1.68922001  0.08231877  1.39132959]\n",
      " [-0.9840123   0.11930549  1.68922001 -0.46647302 -0.20405218]\n",
      " [ 0.91139601 -0.5389317   1.68922001  0.08231877  0.39421598]\n",
      " [ 0.48062139  0.44842408  0.81007205  1.72869412  0.87615422]\n",
      " [ 0.39446647  0.28386479 -0.06907591 -0.46647302 -0.10434082]\n",
      " [-0.12246307 -1.19716888 -1.82737184 -1.0152648  -1.08483586]\n",
      " [ 1.68679031  1.92945775  1.68922001  0.08231877  1.98959775]\n",
      " [ 1.08370585  0.94210197  1.68922001  1.17990233  1.40794815]\n",
      " [-1.7594066  -2.01996536 -0.94822387 -1.56405658 -1.76619682]\n",
      " [ 0.73908616  0.77754267  0.81007205  0.08231877  0.52716446]\n",
      " [ 1.34217062  1.60033916  0.81007205  0.63111055  0.82629854]\n",
      " [ 0.65293124 -0.04525381  1.68922001  0.63111055  0.0950819 ]\n",
      " [ 1.94525508  1.92945775  1.68922001  0.63111055  1.82341215]\n",
      " [-0.03630815  0.44842408 -0.06907591  1.17990233  0.29450462]\n",
      " [ 0.73908616  0.44842408  0.81007205  0.63111055  0.11170046]\n",
      " [-0.46708276 -0.86805029 -0.06907591  0.63111055  0.06184478]\n",
      " [ 0.30831155 -0.5389317  -0.06907591  1.17990233 -0.43671202]\n",
      " [ 0.30831155  0.44842408 -0.94822387  0.08231877 -0.0711037 ]\n",
      " [ 0.04984678 -0.70349099 -0.94822387 -1.56405658 -0.75246466]\n",
      " [ 1.60063539  1.27122056  0.81007205  1.17990233  1.79017503]\n",
      " [-0.20861799 -0.86805029 -0.94822387 -1.0152648  -0.60289762]\n",
      " [-0.38092784 -0.70349099 -0.06907591  0.63111055  0.29450462]\n",
      " [ 0.65293124 -0.04525381  0.81007205  1.17990233  0.44407166]\n",
      " [ 0.39446647  0.28386479 -0.06907591  0.63111055 -0.66937186]\n",
      " [-0.20861799  0.44842408 -0.06907591  0.63111055  0.32774174]\n",
      " [ 0.48062139  0.28386479  1.68922001  0.08231877  0.32774174]\n",
      " [-0.46708276 -0.3743724  -0.94822387 -1.56405658 -0.80232034]\n",
      " [ 0.56677631  0.94210197  0.81007205  1.17990233  1.04233983]\n",
      " [-0.46708276 -1.52628747 -1.82737184 -1.0152648  -1.8991453 ]\n",
      " [-0.9840123  -0.2098131  -0.94822387 -0.46647302 -0.7358461 ]\n",
      " [ 0.82524108  0.11930549 -0.06907591  0.08231877  0.47730878]\n",
      " [ 0.82524108  1.43577986 -0.94822387 -0.46647302  0.79306142]\n",
      " [ 1.34217062  1.43577986  1.68922001  1.72869412  1.12543263]\n",
      " [ 0.82524108  0.77754267  0.81007205  0.08231877  0.85953566]\n",
      " [ 0.91139601  1.10666127 -0.06907591 -0.46647302  0.69335006]\n",
      " [-1.41478691 -0.3743724  -1.82737184 -1.56405658 -1.33411426]\n",
      " [ 0.04984678 -1.19716888 -0.94822387 -1.0152648  -0.05448514]\n",
      " [-1.15632214 -0.3743724   1.68922001  1.17990233  0.07846334]\n",
      " [ 0.1360017  -1.19716888 -0.94822387  0.08231877 -0.10434082]\n",
      " [ 0.22215662 -0.2098131  -0.06907591 -1.0152648  -0.45333058]\n",
      " [-0.12246307 -0.3743724  -0.94822387 -1.0152648  -1.58339266]\n",
      " [ 0.99755093  0.77754267  0.81007205  1.17990233  0.82629854]\n",
      " [ 1.2560157   2.09401705 -0.06907591  0.63111055  0.5936387 ]\n",
      " [-0.89785737  0.44842408 -0.94822387  0.63111055 -0.25390786]\n",
      " [ 1.85910016  1.27122056  1.68922001  1.72869412  1.04233983]\n",
      " [ 1.34217062  1.92945775  0.81007205  1.17990233  1.05895839]\n",
      " [-2.27633614 -1.19716888 -1.82737184 -1.56405658 -1.7329597 ]\n",
      " [-0.38092784 -1.52628747 -1.82737184 -0.46647302 -0.70260898]\n",
      " [ 0.73908616  0.44842408 -0.94822387 -1.0152648   0.2612675 ]\n",
      " [-0.20861799  0.11930549 -0.06907591  0.08231877 -0.76908322]\n",
      " [-0.72554753 -0.70349099 -0.94822387  0.08231877 -0.18743362]\n",
      " [-0.38092784 -0.5389317  -0.06907591  0.08231877 -0.30376354]\n",
      " [-0.81170245 -1.03260958 -0.06907591 -0.46647302 -0.66937186]\n",
      " [ 0.73908616  0.11930549  0.81007205  0.63111055  0.7598243 ]\n",
      " [ 0.91139601  0.94210197 -0.06907591 -0.46647302  0.0950819 ]\n",
      " [ 0.65293124  0.94210197  0.81007205  0.63111055  0.31112318]\n",
      " [-0.46708276 -0.5389317  -0.94822387  0.08231877 -0.20405218]\n",
      " [ 1.16986077  1.10666127 -0.06907591  1.17990233  1.05895839]\n",
      " [ 0.56677631  0.94210197 -0.06907591 -0.46647302  1.19190687]\n",
      " [-0.38092784  0.44842408 -0.94822387 -0.46647302 -0.12095938]\n",
      " [ 0.39446647  0.61298338  1.68922001  1.72869412  1.40794815]\n",
      " [-1.07016722 -0.70349099  1.68922001  0.63111055  0.06184478]\n",
      " [ 1.51448047  1.92945775  1.68922001  1.17990233  1.45780383]\n",
      " [ 0.99755093  0.11930549  0.81007205  0.63111055  0.95924703]\n",
      " [ 0.56677631  0.94210197 -0.06907591  0.63111055  0.46069022]\n",
      " [-0.38092784 -0.3743724  -0.94822387 -0.46647302 -0.80232034]\n",
      " [ 1.51448047  1.43577986  0.81007205 -0.46647302 -1.00174306]\n",
      " [-0.29477291 -0.2098131  -0.94822387 -1.56405658 -0.28714498]\n",
      " [ 1.60063539  1.76489845  1.68922001  0.08231877  1.39132959]\n",
      " [-1.24247707 -0.86805029 -0.06907591  1.72869412 -0.45333058]\n",
      " [ 0.73908616  0.61298338 -0.06907591  0.08231877  0.16155614]\n",
      " [-1.58709676 -1.52628747 -0.94822387 -1.0152648  -1.83267106]\n",
      " [ 0.56677631 -0.04525381 -0.06907591  0.08231877 -0.08772226]\n",
      " [-0.29477291 -1.03260958 -0.06907591 -0.46647302 -0.93526882]\n",
      " [-0.46708276 -0.2098131  -0.94822387 -0.46647302 -0.5696605 ]\n",
      " [ 0.48062139 -0.04525381 -0.06907591  0.08231877 -0.2372893 ]\n",
      " [ 0.30831155  0.61298338  0.81007205  0.08231877  0.44407166]\n",
      " [-0.20861799 -0.2098131  -0.94822387  0.08231877 -0.58627906]\n",
      " [-0.38092784 -1.03260958 -0.94822387  0.08231877 -0.93526882]\n",
      " [-0.03630815  0.28386479 -0.06907591 -0.46647302  0.2612675 ]\n",
      " [ 0.56677631  0.44842408  1.68922001  1.72869412  0.62687582]\n",
      " [ 0.39446647  0.77754267  1.68922001  1.72869412  0.7598243 ]\n",
      " [ 1.60063539  1.60033916  1.68922001  1.72869412  2.02283487]\n",
      " [ 0.99755093  1.27122056  0.81007205  0.63111055  0.9260099 ]\n",
      " [-0.29477291 -0.04525381 -0.06907591  1.17990233  0.14493758]\n",
      " [ 1.85910016  2.09401705  0.81007205  1.72869412  1.75693791]\n",
      " [ 0.73908616 -0.2098131  -0.06907591  0.63111055 -0.33700066]\n",
      " [ 0.91139601  0.77754267 -0.06907591 -0.46647302  0.19479326]\n",
      " [-0.38092784 -0.04525381 -0.06907591 -0.46647302 -0.2372893 ]\n",
      " [ 1.2560157   0.77754267  1.68922001  1.72869412  1.98959775]\n",
      " [-0.9840123  -0.04525381 -0.94822387 -1.0152648  -0.30376354]\n",
      " [-0.38092784 -0.3743724  -0.06907591 -0.46647302 -0.96850594]\n",
      " [-1.58709676 -1.36172818 -0.94822387 -1.56405658 -1.66648546]\n",
      " [ 0.04984678 -0.04525381 -0.94822387 -0.46647302 -0.53642338]\n",
      " [-1.32863199 -0.5389317  -0.94822387  0.08231877 -1.18454722]\n",
      " [ 0.04984678 -0.2098131  -0.94822387  0.08231877 -0.80232034]\n",
      " [-0.55323768 -0.5389317  -0.06907591  0.08231877 -0.38685634]\n",
      " [-1.7594066  -1.69084677 -0.94822387 -1.56405658 -1.33411426]\n",
      " [ 1.08370585  0.61298338  0.81007205  0.63111055  0.6767315 ]\n",
      " [-1.58709676 -1.52628747 -0.94822387 -0.46647302 -0.95188738]\n",
      " [-0.38092784 -0.5389317  -0.06907591  0.63111055 -0.85217602]\n",
      " [ 0.04984678 -0.3743724  -0.06907591 -0.46647302 -0.0711037 ]\n",
      " [-0.55323768 -1.36172818 -0.94822387 -1.56405658 -2.16504226]\n",
      " [-0.55323768 -0.86805029 -0.06907591  0.63111055 -0.96850594]\n",
      " [-0.81170245 -0.04525381 -0.94822387  0.08231877 -0.13757794]\n",
      " [ 1.34217062  1.76489845  1.68922001  1.72869412  1.72370079]\n",
      " [-1.07016722 -1.69084677 -0.94822387 -1.56405658 -1.60001122]\n",
      " [ 0.22215662 -0.2098131  -0.06907591 -0.46647302 -1.00174306]\n",
      " [-1.7594066  -1.36172818 -0.94822387 -1.0152648  -0.95188738]\n",
      " [-0.72554753  0.28386479 -0.94822387  0.63111055 -0.25390786]\n",
      " [-0.46708276 -0.5389317  -0.94822387 -1.56405658 -0.50318626]\n",
      " [-0.46708276 -0.3743724  -0.06907591 -0.46647302 -0.25390786]]\n"
     ]
    }
   ],
   "source": [
    "print(X5_test)"
   ]
  },
  {
   "cell_type": "code",
   "execution_count": 10,
   "metadata": {},
   "outputs": [],
   "source": [
    "# build_fn for sklearn wrapped\n",
    "def get_baseline_model(input_size):\n",
    "    model = keras.Sequential()\n",
    "    model.add(keras.layers.Dense(num_neurons, input_dim = input_size, activation='relu',kernel_regularizer=l2))\n",
    "    model.add(keras.layers.Dense(1))\n",
    "\n",
    "    model.compile(optimizer=sgd,\n",
    "                  loss=keras.losses.MeanSquaredError(),\n",
    "                  metrics=['mse'])\n",
    "    \n",
    "    return model"
   ]
  },
  {
   "cell_type": "code",
   "execution_count": 11,
   "metadata": {},
   "outputs": [],
   "source": [
    "early_stopper = keras.callbacks.EarlyStopping(monitor='val_mse',patience=10,mode=\"min\",min_delta=1e-5)"
   ]
  },
  {
   "cell_type": "code",
   "execution_count": 12,
   "metadata": {
    "scrolled": true
   },
   "outputs": [
    {
     "name": "stdout",
     "output_type": "stream",
     "text": [
      "Experiments 0\n",
      "min m.s.e for full features: 0.00757\n",
      "min m.s.e for 6 features: 0.00764\n",
      "min m.s.e for 5 features: 0.00605\n",
      "Experiments 1\n",
      "min m.s.e for full features: 0.00651\n",
      "min m.s.e for 6 features: 0.00675\n",
      "min m.s.e for 5 features: 0.00624\n",
      "Experiments 2\n",
      "min m.s.e for full features: 0.00620\n",
      "min m.s.e for 6 features: 0.00655\n",
      "min m.s.e for 5 features: 0.00594\n",
      "Experiments 3\n",
      "min m.s.e for full features: 0.00684\n",
      "min m.s.e for 6 features: 0.00616\n",
      "min m.s.e for 5 features: 0.00599\n",
      "Experiments 4\n",
      "min m.s.e for full features: 0.00866\n",
      "min m.s.e for 6 features: 0.00615\n",
      "min m.s.e for 5 features: 0.00622\n"
     ]
    }
   ],
   "source": [
    "mse_all = []\n",
    "for i in range (5):\n",
    "    print(\"Experiments %s\"%i)\n",
    "    #Full\n",
    "    input_size = X_train.shape[1]\n",
    "    model = get_baseline_model(input_size)\n",
    "    results = model.fit(X_train,Y_train, validation_data = (X_test, Y_test),\n",
    "                       epochs=epochs, batch_size=batch_size, verbose=0,callbacks=[early_stopper])\n",
    "    best_full_mse = min(results.history['val_mse'])\n",
    "    print(\"min m.s.e for full features: %.5f\"%best_full_mse)\n",
    "    \n",
    "    #6 features\n",
    "    input_size = X6_train.shape[1]\n",
    "    model_6 = get_baseline_model(input_size)\n",
    "    results_6 = model_6.fit(X6_train,Y_train, validation_data = (X6_test, Y_test),\n",
    "                       epochs=epochs, batch_size=batch_size, verbose=0,callbacks=[early_stopper])\n",
    "    best_6_mse = min(results_6.history['val_mse'])\n",
    "    print(\"min m.s.e for 6 features: %.5f\"%best_6_mse)\n",
    "        \n",
    "    #5 features\n",
    "    input_size = X5_train.shape[1]\n",
    "    model_5 = get_baseline_model(input_size)\n",
    "    results_5 = model_5.fit(X5_train,Y_train, validation_data = (X5_test, Y_test),\n",
    "                       epochs=epochs, batch_size=batch_size, verbose=0,callbacks=[early_stopper])\n",
    "    best_5_mse = min(results_5.history['val_mse'])\n",
    "    print(\"min m.s.e for 5 features: %.5f\"%best_5_mse)\n",
    "    mse_all.append([best_full_mse,best_6_mse,best_5_mse])\n"
   ]
  },
  {
   "cell_type": "code",
   "execution_count": 15,
   "metadata": {},
   "outputs": [
    {
     "name": "stdout",
     "output_type": "stream",
     "text": [
      "[[0.007567731663584709, 0.007637902162969112, 0.00605161814019084], [0.006514870561659336, 0.006751124281436205, 0.0062438552267849445], [0.006204974837601185, 0.006549794692546129, 0.00593941193073988], [0.006838631816208363, 0.00615816842764616, 0.005990255158394575], [0.008659182116389275, 0.00615155091509223, 0.00622157845646143]]\n",
      "[0.00715708 0.00664971 0.00608934]\n"
     ]
    }
   ],
   "source": [
    "print(mse_all)\n",
    "mse_ave = np.array(mse_all).mean(axis=0)\n",
    "print(mse_ave)"
   ]
  },
  {
   "cell_type": "code",
   "execution_count": 17,
   "metadata": {},
   "outputs": [
    {
     "data": {
      "image/png": "[encoded data removed]",
      "text/plain": [
       "<Figure size 432x288 with 1 Axes>"
      ]
     },
     "metadata": {
      "needs_background": "light"
     },
     "output_type": "display_data"
    }
   ],
   "source": [
    "plt.plot(['Full','6 Features','5 Features'],mse_ave,linestyle='None',marker='x')\n",
    "plt.ylabel('ave test mse')\n",
    "plt.xlabel('model type')\n",
    "plt.title('ave test mse for different number of features in input')\n",
    "plt.savefig('./figures/2B_ave_5_experiments_test_mse.png')"
   ]
  },
  {
   "cell_type": "code",
   "execution_count": null,
   "metadata": {},
   "outputs": [],
   "source": []
  }
 ],
 "metadata": {
  "kernelspec": {
   "display_name": "Python 3",
   "language": "python",
   "name": "python3"
  },
  "language_info": {
   "codemirror_mode": {
    "name": "ipython",
    "version": 3
   },
   "file_extension": ".py",
   "mimetype": "text/x-python",
   "name": "python",
   "nbconvert_exporter": "python",
   "pygments_lexer": "ipython3",
   "version": "3.8.2"
  }
 },
 "nbformat": 4,
 "nbformat_minor": 4
}
