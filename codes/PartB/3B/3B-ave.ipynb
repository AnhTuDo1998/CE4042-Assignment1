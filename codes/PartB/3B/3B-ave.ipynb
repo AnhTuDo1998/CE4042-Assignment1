{
 "cells": [
  {
   "cell_type": "code",
   "execution_count": 1,
   "metadata": {},
   "outputs": [],
   "source": [
    "import tensorflow as tf\n",
    "from tensorflow import keras\n",
    "import numpy as np\n",
    "import matplotlib.pyplot as plt\n",
    "\n",
    "from sklearn.model_selection import train_test_split, KFold, cross_val_score\n",
    "from sklearn.preprocessing import StandardScaler\n",
    "\n",
    "import os\n",
    "if not os.path.isdir('figures'):\n",
    "    os.makedirs('figures')"
   ]
  },
  {
   "cell_type": "code",
   "execution_count": 2,
   "metadata": {},
   "outputs": [],
   "source": [
    "epochs = 1500\n",
    "batch_size = 8\n",
    "#num_neurons = 10\n",
    "seed = 10\n",
    "\n",
    "input_size=5 #optimal no. of features\n",
    "\n",
    "beta = 1e-3\n",
    "alpha = 1e-3\n",
    "\n",
    "l2=keras.regularizers.l2(beta)\n",
    "sgd=keras.optimizers.SGD(learning_rate=alpha)\n",
    "\n",
    "histories={}\n",
    "\n",
    "np.random.seed(seed)\n",
    "tf.random.set_seed(seed)"
   ]
  },
  {
   "cell_type": "code",
   "execution_count": 3,
   "metadata": {},
   "outputs": [],
   "source": [
    "#read and divide data into test and train sets \n",
    "admit_data = np.genfromtxt('admission_predict.csv', delimiter= ',')\n",
    "X_data, Y_data = admit_data[1:,1:8], admit_data[1:,-1]\n",
    "Y_data = Y_data.reshape(Y_data.shape[0], 1)\n",
    "\n",
    "X_train, X_test, Y_train, Y_test = train_test_split(X_data,Y_data,test_size = 0.3, random_state = seed, shuffle=True)\n",
    "\n",
    "#Preprocess by standardizing the Xtrain and Xtest based on Xtrain stats\n",
    "scaler = StandardScaler()\n",
    "scaler.fit(X_train)\n",
    "\n",
    "X_train = scaler.transform(X_train)\n",
    "X_test = scaler.transform(X_test)\n"
   ]
  },
  {
   "cell_type": "code",
   "execution_count": 4,
   "metadata": {
    "scrolled": true
   },
   "outputs": [],
   "source": [
    "#RFE\n",
    "train_data_6_feature = []\n",
    "test_data_6_feature = []\n",
    "\n",
    "#Make train and test set for 6 features RFE.\n",
    "for feature_idx in range(7):\n",
    "    temp = np.delete(X_train,obj=feature_idx,axis=1)\n",
    "    train_data_6_feature.append(temp)\n",
    "    temp = np.delete(X_test,obj=feature_idx,axis=1)\n",
    "    test_data_6_feature.append(temp)\n",
    "    \n",
    "#keep model with lowest m.s.e (model that removed feature 6 Research has lowest average test mse)\n",
    "X6_train, X6_test = train_data_6_feature[6],test_data_6_feature[6]\n",
    "\n",
    "train_data_5_feature = []\n",
    "test_data_5_feature = []\n",
    "\n",
    "#Make train and test set for 5 features RFE.\n",
    "for feature_idx in range(6):\n",
    "    temp = np.delete(X6_train,obj=feature_idx,axis=1)\n",
    "    train_data_5_feature.append(temp)\n",
    "    temp = np.delete(X6_test,obj=feature_idx,axis=1)\n",
    "    test_data_5_feature.append(temp)\n",
    "    \n",
    "#Keep model with lowest MSE (from removing the feature 3 or SOP)\n",
    "X5_train, X5_test = train_data_5_feature[3],test_data_5_feature[3]"
   ]
  },
  {
   "cell_type": "code",
   "execution_count": 5,
   "metadata": {},
   "outputs": [],
   "source": [
    "# build_fn for sklearn wrapped\n",
    "def get_3_model():\n",
    "    model = keras.Sequential()\n",
    "    model.add(keras.layers.Dense(10, input_dim = input_size, activation='relu',kernel_regularizer=l2))\n",
    "    model.add(keras.layers.Dense(1))\n",
    "\n",
    "    model.compile(optimizer=sgd,\n",
    "                  loss=keras.losses.MeanSquaredError(),\n",
    "                  metrics=['mse'])\n",
    "    \n",
    "    return model\n",
    "\n",
    "def get_4_model():\n",
    "    model = keras.Sequential()\n",
    "    model.add(keras.layers.Dense(50, input_dim = input_size, activation='relu',kernel_regularizer=l2))\n",
    "    model.add(keras.layers.Dense(50, activation='relu',kernel_regularizer=l2))\n",
    "    model.add(keras.layers.Dense(1))\n",
    "\n",
    "    model.compile(optimizer=sgd,\n",
    "                  loss=keras.losses.MeanSquaredError(),\n",
    "                  metrics=['mse'])\n",
    "    \n",
    "    return model\n",
    "\n",
    "#Add drop out for both visible and hidden layers\n",
    "def get_4_dropout_model():\n",
    "    model = keras.Sequential()\n",
    "    model.add(keras.layers.Dropout(0.2, input_shape=(5,)))\n",
    "    model.add(keras.layers.Dense(50, activation='relu',kernel_regularizer=l2))\n",
    "    model.add(keras.layers.Dropout(0.2))\n",
    "    model.add(keras.layers.Dense(50, activation='relu',kernel_regularizer=l2))\n",
    "    model.add(keras.layers.Dropout(0.2))\n",
    "    model.add(keras.layers.Dense(1))\n",
    "    \n",
    "    model.compile(optimizer=sgd,\n",
    "              loss=keras.losses.MeanSquaredError(),\n",
    "              metrics=['mse'])\n",
    "    \n",
    "    return model\n",
    "    \n",
    "def get_5_model():\n",
    "    model = keras.Sequential()\n",
    "    model.add(keras.layers.Dense(50, input_dim = input_size, activation='relu',kernel_regularizer=l2))\n",
    "    model.add(keras.layers.Dense(50, activation='relu',kernel_regularizer=l2))\n",
    "    model.add(keras.layers.Dense(50, activation='relu',kernel_regularizer=l2))\n",
    "    model.add(keras.layers.Dense(1))\n",
    "\n",
    "    model.compile(optimizer=sgd,\n",
    "                  loss=keras.losses.MeanSquaredError(),\n",
    "                  metrics=['mse'])\n",
    "    \n",
    "    return model\n",
    "\n",
    "#Add drop out for both visible and hidden layers\n",
    "def get_5_dropout_model():\n",
    "    model = keras.Sequential()\n",
    "    model.add(keras.layers.Dropout(0.2, input_shape=(5,)))\n",
    "    model.add(keras.layers.Dense(50, activation='relu',kernel_regularizer=l2))\n",
    "    model.add(keras.layers.Dropout(0.2))\n",
    "    model.add(keras.layers.Dense(50, activation='relu',kernel_regularizer=l2))\n",
    "    model.add(keras.layers.Dropout(0.2))\n",
    "    model.add(keras.layers.Dense(50, activation='relu',kernel_regularizer=l2))\n",
    "    model.add(keras.layers.Dropout(0.2))\n",
    "    model.add(keras.layers.Dense(1))\n",
    "    \n",
    "    model.compile(optimizer=sgd,\n",
    "              loss=keras.losses.MeanSquaredError(),\n",
    "              metrics=['mse'])\n",
    "    \n",
    "    return model\n"
   ]
  },
  {
   "cell_type": "code",
   "execution_count": 6,
   "metadata": {
    "scrolled": true
   },
   "outputs": [
    {
     "name": "stdout",
     "output_type": "stream",
     "text": [
      "Experiments 0\n",
      "min mse for optimal 3 layers network: 0.00759\n",
      "min mse for 4 layers network: 0.00582\n",
      "min mse for 4 layers + dropout network: 0.00611\n",
      "min mse for 5 layers network: 0.00559\n",
      "min mse for 5 layers + dropout network: 0.00705\n",
      "Experiments 1\n",
      "min mse for optimal 3 layers network: 0.00572\n",
      "min mse for 4 layers network: 0.00557\n",
      "min mse for 4 layers + dropout network: 0.00629\n",
      "min mse for 5 layers network: 0.00554\n",
      "min mse for 5 layers + dropout network: 0.00624\n",
      "Experiments 2\n",
      "min mse for optimal 3 layers network: 0.00619\n",
      "min mse for 4 layers network: 0.00576\n",
      "min mse for 4 layers + dropout network: 0.00622\n",
      "min mse for 5 layers network: 0.00531\n",
      "min mse for 5 layers + dropout network: 0.00655\n",
      "Experiments 3\n",
      "min mse for optimal 3 layers network: 0.00740\n",
      "min mse for 4 layers network: 0.00586\n",
      "min mse for 4 layers + dropout network: 0.00603\n",
      "min mse for 5 layers network: 0.00625\n",
      "min mse for 5 layers + dropout network: 0.00666\n",
      "Experiments 4\n",
      "min mse for optimal 3 layers network: 0.00643\n",
      "min mse for 4 layers network: 0.00620\n",
      "min mse for 4 layers + dropout network: 0.00581\n",
      "min mse for 5 layers network: 0.00585\n",
      "min mse for 5 layers + dropout network: 0.00664\n"
     ]
    }
   ],
   "source": [
    "mse_all=[]\n",
    "for i in range(5):\n",
    "    print(\"Experiments %s\"%i)\n",
    "\n",
    "    #3 layer, 5 features\n",
    "    model_3 = get_3_model()\n",
    "    results_3 = model_3.fit(X5_train,Y_train, validation_data = (X5_test, Y_test),\n",
    "                       epochs=epochs, batch_size=batch_size, verbose=0)\n",
    "    best_3_mse = min(results_3.history['val_mse'])\n",
    "    print(\"min mse for optimal 3 layers network: %.5f\"%best_3_mse)\n",
    "    \n",
    "    #4 layer, 5 features\n",
    "    model_4 = get_4_model()\n",
    "    results_4 = model_4.fit(X5_train,Y_train, validation_data = (X5_test, Y_test),\n",
    "                       epochs=epochs, batch_size=batch_size, verbose=0)\n",
    "    best_4_mse = min(results_4.history['val_mse'])\n",
    "    print(\"min mse for 4 layers network: %.5f\"%best_4_mse)\n",
    "    \n",
    "    #4 layer, drop out, 5 features\n",
    "    model_4_dropout = get_4_dropout_model()\n",
    "    results_4_dropout = model_4_dropout.fit(X5_train,Y_train, validation_data = (X5_test, Y_test),\n",
    "                       epochs=epochs, batch_size=batch_size, verbose=0)\n",
    "    best_4drop_mse = min(results_4_dropout.history['val_mse'])\n",
    "    print(\"min mse for 4 layers + dropout network: %.5f\"%best_4drop_mse)\n",
    "    \n",
    "    #5 layer, 5 features\n",
    "    model_5 = get_5_model()\n",
    "    results_5 = model_5.fit(X5_train,Y_train, validation_data = (X5_test, Y_test),\n",
    "                       epochs=epochs, batch_size=batch_size, verbose=0)\n",
    "    best_5_mse = min(results_5.history['val_mse'])\n",
    "    print(\"min mse for 5 layers network: %.5f\"%best_5_mse)\n",
    "    \n",
    "    #5 layer, drop out, 5 features\n",
    "    model_5_dropout = get_5_dropout_model()\n",
    "    results_5_dropout = model_5_dropout.fit(X5_train,Y_train, validation_data = (X5_test, Y_test),\n",
    "                       epochs=epochs, batch_size=batch_size, verbose=0)\n",
    "    best_5drop_mse = min(results_5_dropout.history['val_mse'])\n",
    "    print(\"min mse for 5 layers + dropout network: %.5f\"%best_5drop_mse)\n",
    "    \n",
    "    mse_all.append([best_3_mse,best_4_mse,best_4drop_mse,best_5_mse,best_5drop_mse])"
   ]
  },
  {
   "cell_type": "code",
   "execution_count": 7,
   "metadata": {},
   "outputs": [
    {
     "name": "stdout",
     "output_type": "stream",
     "text": [
      "[[0.0075913770124316216, 0.005821620114147663, 0.0061057391576468945, 0.005585022736340761, 0.007049760781228542], [0.005719524808228016, 0.0055735413916409016, 0.006294944789260626, 0.005544648971408606, 0.006240874528884888], [0.006189498584717512, 0.005763488821685314, 0.0062233018688857555, 0.005306670907884836, 0.006550791207700968], [0.0074028256349265575, 0.00585633609443903, 0.006028148345649242, 0.006254430394619703, 0.006655985489487648], [0.006432958412915468, 0.006202508229762316, 0.0058078826405107975, 0.00584911135956645, 0.006644917652010918]]\n",
      "[0.00666724 0.0058435  0.006092   0.00570798 0.00662847]\n"
     ]
    }
   ],
   "source": [
    "print(mse_all)\n",
    "mse_ave = np.array(mse_all).mean(axis=0)\n",
    "print(mse_ave)"
   ]
  },
  {
   "cell_type": "code",
   "execution_count": 8,
   "metadata": {},
   "outputs": [
    {
     "data": {
      "image/png": "[encoded data removed]",
      "text/plain": [
       "<Figure size 432x288 with 1 Axes>"
      ]
     },
     "metadata": {
      "needs_background": "light"
     },
     "output_type": "display_data"
    }
   ],
   "source": [
    "plt.plot(['3','4','4 drop','5','5 drop'],mse_ave,linestyle='None',marker='x')\n",
    "plt.ylabel('ave test mse')\n",
    "plt.xlabel('model type')\n",
    "plt.title('ave test mse for different num of layer')\n",
    "plt.savefig('./figures/3B_ave_5_experiments_test_mse.png')"
   ]
  },
  {
   "cell_type": "code",
   "execution_count": null,
   "metadata": {},
   "outputs": [],
   "source": []
  }
 ],
 "metadata": {
  "kernelspec": {
   "display_name": "Python 3",
   "language": "python",
   "name": "python3"
  },
  "language_info": {
   "codemirror_mode": {
    "name": "ipython",
    "version": 3
   },
   "file_extension": ".py",
   "mimetype": "text/x-python",
   "name": "python",
   "nbconvert_exporter": "python",
   "pygments_lexer": "ipython3",
   "version": "3.8.2"
  }
 },
 "nbformat": 4,
 "nbformat_minor": 4
}
