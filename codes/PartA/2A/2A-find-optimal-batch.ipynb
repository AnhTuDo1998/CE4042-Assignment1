{
 "cells": [
  {
   "cell_type": "code",
   "execution_count": 9,
   "metadata": {},
   "outputs": [],
   "source": [
    "import tensorflow as tf\n",
    "from tensorflow import keras\n",
    "import numpy as np\n",
    "import matplotlib.pyplot as plt\n",
    "\n",
    "from sklearn.model_selection import train_test_split, KFold\n",
    "\n",
    "import os\n",
    "\n",
    "if not os.path.isdir('figures'):\n",
    "    os.makedirs('figures')\n",
    "if not os.path.isdir('early_stopped'):\n",
    "    os.makedirs('early_stopped')"
   ]
  },
  {
   "cell_type": "code",
   "execution_count": 2,
   "metadata": {},
   "outputs": [],
   "source": [
    "# scaler for data\n",
    "def scale(X, X_min, X_max):\n",
    "    return (X - X_min)/(X_max-X_min)"
   ]
  },
  {
   "cell_type": "code",
   "execution_count": 3,
   "metadata": {},
   "outputs": [],
   "source": [
    "def plot_loss_and_save(history, batch_size, fold):\n",
    "    plt.plot(history.history['loss'])\n",
    "    plt.plot(history.history['val_loss'])\n",
    "    plt.title('batch_size %s, fold %s model loss'%(batch_size,fold))\n",
    "    plt.ylabel('loss')\n",
    "    plt.xlabel('epoch')\n",
    "    plt.legend(['train','validate'], loc= 'upper right' )\n",
    "    plt.ylim(0,1)\n",
    "    plt.savefig('./figures/2A_batch_%s_fold_%s_loss.png'%(batch_size,fold))\n",
    "    plt.show()"
   ]
  },
  {
   "cell_type": "code",
   "execution_count": 4,
   "metadata": {},
   "outputs": [],
   "source": [
    "def plot_acc_and_save(history, batch_size, fold):\n",
    "    plt.plot(history.history['accuracy'])\n",
    "    plt.plot(history.history['val_accuracy'])\n",
    "    plt.title('batch_size %s, fold % accuracy'%(batch_size,fold))\n",
    "    plt.ylabel('accuracy')\n",
    "    plt.xlabel('epoch')\n",
    "    plt.legend(['train','validate'], loc= 'lower right' )\n",
    "    plt.ylim(0,1)\n",
    "    plt.savefig('./figures/2A_batch_%s_fold_%s_accuracy.png'%(batch_size,fold))\n",
    "    plt.show()"
   ]
  },
  {
   "cell_type": "code",
   "execution_count": 5,
   "metadata": {},
   "outputs": [],
   "source": [
    "NUM_CLASSES = 3\n",
    "\n",
    "epochs = 2000\n",
    "batch_size = [4,8,16,32,64]\n",
    "num_neurons = 10\n",
    "seed = 10\n",
    "\n",
    "num_attributes = 21\n",
    "num_folds = 5\n",
    "\n",
    "weight_decay = 1e-6\n",
    "\n",
    "np.random.seed(seed)\n",
    "tf.random.set_seed(seed)\n",
    "\n",
    "histories={}\n",
    "performances={}\n",
    "losses={}"
   ]
  },
  {
   "cell_type": "code",
   "execution_count": 6,
   "metadata": {},
   "outputs": [],
   "source": [
    "dataset = np.genfromtxt('ctg_data_cleaned.csv', delimiter= ',')\n",
    "X, Y = dataset[1:,:21], dataset[1:,-1].astype(int)\n",
    "Y = Y - 1 #For python that start from 0\n",
    "\n",
    "#Split to train and test\n",
    "X_train, X_test, Y_train, Y_test = train_test_split(X, Y, test_size = 0.3, random_state = seed, shuffle=True)\n",
    "\n",
    "#Scale based on training set \n",
    "X_test = scale(X_test,np.min(X_train,axis = 0),np.max(X_train, axis=0))\n",
    "X_train = scale(X_train, np.min(X_train, axis = 0),np.max(X_train, axis = 0 ))"
   ]
  },
  {
   "cell_type": "code",
   "execution_count": 7,
   "metadata": {},
   "outputs": [],
   "source": [
    "#Define K fold\n",
    "kfold = KFold(n_splits=num_folds,shuffle=True,random_state = seed)\n",
    "\n",
    "#Define model constructor\n",
    "def build_model():\n",
    "    #Model definition\n",
    "    model = keras.Sequential()\n",
    "    model.add(keras.layers.Dense(num_neurons, activation = 'relu',input_dim = num_attributes,kernel_regularizer=keras.regularizers.l2(weight_decay)))\n",
    "    model.add(keras.layers.Dense(NUM_CLASSES, activation ='softmax'))\n",
    "\n",
    "    #default of sgd is lr = 0.01 so no need specify\n",
    "    model.compile(optimizer='sgd',\n",
    "                 loss = keras.losses.SparseCategoricalCrossentropy(),\n",
    "                 metrics=['accuracy'])\n",
    "    return model"
   ]
  },
  {
   "cell_type": "code",
   "execution_count": 8,
   "metadata": {},
   "outputs": [
    {
     "name": "stdout",
     "output_type": "stream",
     "text": [
      "Best accuracy of batch_size 4, fold 0: 0.9027\n",
      "Best accuracy of batch_size 4, fold 1: 0.9329\n",
      "Best accuracy of batch_size 4, fold 2: 0.8960\n",
      "Best accuracy of batch_size 4, fold 3: 0.9091\n",
      "Best accuracy of batch_size 4, fold 4: 0.8956\n",
      "90.73% (+/- 1.37%)\n",
      "0.2388 (+/- 0.0373)\n",
      "Best accuracy of batch_size 8, fold 0: 0.9027\n",
      "Best accuracy of batch_size 8, fold 1: 0.9430\n",
      "Best accuracy of batch_size 8, fold 2: 0.8926\n",
      "Best accuracy of batch_size 8, fold 3: 0.9057\n",
      "Best accuracy of batch_size 8, fold 4: 0.9192\n",
      "91.26% (+/- 1.74%)\n",
      "0.2328 (+/- 0.0307)\n",
      "Best accuracy of batch_size 16, fold 0: 0.8960\n",
      "Best accuracy of batch_size 16, fold 1: 0.9329\n",
      "Best accuracy of batch_size 16, fold 2: 0.8826\n",
      "Best accuracy of batch_size 16, fold 3: 0.9057\n",
      "Best accuracy of batch_size 16, fold 4: 0.8822\n",
      "89.99% (+/- 1.87%)\n",
      "0.2527 (+/- 0.0303)\n",
      "Best accuracy of batch_size 32, fold 0: 0.8993\n",
      "Best accuracy of batch_size 32, fold 1: 0.9463\n",
      "Best accuracy of batch_size 32, fold 2: 0.8826\n",
      "Best accuracy of batch_size 32, fold 3: 0.9024\n",
      "Best accuracy of batch_size 32, fold 4: 0.8855\n",
      "90.32% (+/- 2.29%)\n",
      "0.2546 (+/- 0.0341)\n",
      "Best accuracy of batch_size 64, fold 0: 0.8960\n",
      "Best accuracy of batch_size 64, fold 1: 0.9228\n",
      "Best accuracy of batch_size 64, fold 2: 0.8691\n",
      "Best accuracy of batch_size 64, fold 3: 0.9024\n",
      "Best accuracy of batch_size 64, fold 4: 0.8822\n",
      "89.45% (+/- 1.82%)\n",
      "0.2621 (+/- 0.0337)\n"
     ]
    }
   ],
   "source": [
    "for batch_size_idx in batch_size:\n",
    "    fold = 0\n",
    "    batch_histories = {}\n",
    "    model_accuracies = []\n",
    "    model_losses = []\n",
    "    \n",
    "    for train_idx, test_idx in kfold.split(X_train,Y_train):\n",
    "        early_stopper = keras.callbacks.EarlyStopping(monitor='val_loss',patience=20)\n",
    "        fold_csv_logger = keras.callbacks.CSVLogger('./early_stopped/2A_fold_%s_batch_%s_early_stopped.csv' % (fold,batch_size_idx))\n",
    "        callbacks = [fold_csv_logger, early_stopper]\n",
    "        #Build model and fit for training, use early stopping to prevent overfitting\n",
    "        model = build_model()\n",
    "        batch_histories['fold_%s'%fold] = model.fit(X_train[train_idx],Y_train[train_idx],\n",
    "                                                   validation_data = (X_train[test_idx],Y_train[test_idx]),\n",
    "                                                   epochs = epochs,\n",
    "                                                   verbose = 0,\n",
    "                                                   batch_size=batch_size_idx,\n",
    "                                                   callbacks=callbacks)\n",
    "        \n",
    "        #plot_acc_and_save(batch_histories['fold_%s'%fold],batch_size_idx,fold)\n",
    "        #plot_loss_and_save(batch_histories['fold_%s'%fold],batch_size_idx,fold)\n",
    "        \n",
    "        #This one is for previously\n",
    "        #score = model.evaluate(X_train[test_idx],Y_train[test_idx])\n",
    "        #model_accuracies.append(score[1]*100)\n",
    "        best_accuracy = max(batch_histories['fold_%s'%fold].history['val_accuracy'])\n",
    "        best_loss = min(batch_histories['fold_%s'%fold].history['val_loss'])\n",
    "        \n",
    "        #Evaluate only by models\n",
    "        print(\"Best accuracy of batch_size %s, fold %s: %.4f\" %(batch_size_idx,fold,best_accuracy))\n",
    "        \n",
    "        model_accuracies.append(best_accuracy*100)\n",
    "        model_losses.append(best_loss)\n",
    "        \n",
    "        fold += 1 #Update fold number\n",
    "                                                    \n",
    "    #Update history of this batch_size into main history\n",
    "    histories['batch_%s_histories'%batch_size_idx]=batch_histories\n",
    "    #Batch size average performance\n",
    "    performances['batch_%s'%batch_size_idx]=model_accuracies\n",
    "    losses['batch_%s'%batch_size_idx]=model_losses\n",
    "    print(\"%.2f%% (+/- %.2f%%)\" % (np.mean(model_accuracies), np.std(model_accuracies)))\n",
    "    print(\"%.4f (+/- %.4f)\" % (np.mean(model_losses), np.std(model_losses)))\n",
    "    #Repeat until all batch_sizes has been evaluated\n",
    "    "
   ]
  },
  {
   "cell_type": "code",
   "execution_count": 19,
   "metadata": {},
   "outputs": [
    {
     "data": {
      "image/png": "[encoded data removed]",
      "text/plain": [
       "<Figure size 432x288 with 1 Axes>"
      ]
     },
     "metadata": {
      "needs_background": "light"
     },
     "output_type": "display_data"
    }
   ],
   "source": [
    "plt.plot(batch_size,[0.9073,0.9126,0.8999,0.9032,0.8945],linestyle='None',marker = 'x')\n",
    "plt.title('mean accuracy vs batch_size for training')\n",
    "plt.ylabel('mean accuracy')\n",
    "plt.xlabel('batch_size')\n",
    "plt.savefig('./early_stopped/mean_accuracy.png')\n",
    "plt.show()"
   ]
  },
  {
   "cell_type": "code",
   "execution_count": null,
   "metadata": {},
   "outputs": [],
   "source": []
  }
 ],
 "metadata": {
  "kernelspec": {
   "display_name": "Python 3",
   "language": "python",
   "name": "python3"
  },
  "language_info": {
   "codemirror_mode": {
    "name": "ipython",
    "version": 3
   },
   "file_extension": ".py",
   "mimetype": "text/x-python",
   "name": "python",
   "nbconvert_exporter": "python",
   "pygments_lexer": "ipython3",
   "version": "3.8.2"
  }
 },
 "nbformat": 4,
 "nbformat_minor": 4
}
