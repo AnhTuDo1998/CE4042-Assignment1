{
 "cells": [
  {
   "cell_type": "code",
   "execution_count": 1,
   "metadata": {},
   "outputs": [],
   "source": [
    "import tensorflow as tf\n",
    "from tensorflow import keras\n",
    "import numpy as np\n",
    "import matplotlib.pyplot as plt\n",
    "\n",
    "from sklearn.model_selection import train_test_split, KFold\n",
    "\n",
    "import os\n",
    "if not os.path.isdir('figures'):\n",
    "    os.makedirs('figures')\n",
    "if not os.path.isdir('early_stopped'):\n",
    "    os.makedirs('early_stopped')"
   ]
  },
  {
   "cell_type": "code",
   "execution_count": 2,
   "metadata": {},
   "outputs": [],
   "source": [
    "# scaler for data\n",
    "def scale(X, X_min, X_max):\n",
    "    return (X - X_min)/(X_max-X_min)"
   ]
  },
  {
   "cell_type": "code",
   "execution_count": 3,
   "metadata": {},
   "outputs": [],
   "source": [
    "def plot_loss_and_save(history, num_neuron, fold):\n",
    "    plt.plot(history.history['loss'])\n",
    "    plt.plot(history.history['val_loss'])\n",
    "    plt.title('num_neuron %s, fold %s model loss'%(num_neuron,fold))\n",
    "    plt.ylabel('loss')\n",
    "    plt.xlabel('epoch')\n",
    "    plt.legend(['train','validate'], loc= 'upper right' )\n",
    "    plt.ylim(0,1)\n",
    "    plt.savefig('./figures/3A_neuron_%s_fold_%s_loss.png'%(num_neuron,fold))\n",
    "    plt.show()"
   ]
  },
  {
   "cell_type": "code",
   "execution_count": 4,
   "metadata": {},
   "outputs": [],
   "source": [
    "def plot_acc_and_save(history, num_neuron, fold):\n",
    "    plt.plot(history.history['accuracy'])\n",
    "    plt.plot(history.history['val_accuracy'])\n",
    "    plt.title('num_neuron %s, fold % accuracy'%(num_neuron,fold))\n",
    "    plt.ylabel('accuracy')\n",
    "    plt.xlabel('epoch')\n",
    "    plt.legend(['train','validate'], loc= 'lower right' )\n",
    "    plt.ylim(0,1)\n",
    "    plt.savefig('./figures/3A_neuron_%s_fold_%s_accuracy.png'%(num_neuron,fold))\n",
    "    plt.show()"
   ]
  },
  {
   "cell_type": "code",
   "execution_count": 5,
   "metadata": {},
   "outputs": [],
   "source": [
    "NUM_CLASSES = 3\n",
    "\n",
    "epochs = 2000\n",
    "batch_size = 8\n",
    "num_neurons = [5,10,15,20,25]\n",
    "seed = 10\n",
    "\n",
    "num_attributes = 21\n",
    "num_folds = 5\n",
    "\n",
    "weight_decay=1e-6\n",
    "\n",
    "np.random.seed(seed)\n",
    "tf.random.set_seed(seed)\n",
    "\n",
    "histories={}\n",
    "performances={}\n",
    "losses={}"
   ]
  },
  {
   "cell_type": "code",
   "execution_count": 6,
   "metadata": {},
   "outputs": [],
   "source": [
    "dataset = np.genfromtxt('ctg_data_cleaned.csv', delimiter= ',')\n",
    "X, Y = dataset[1:,:21], dataset[1:,-1].astype(int)\n",
    "Y = Y - 1 #For python that start from 0\n",
    "\n",
    "#Split to train and test\n",
    "X_train, X_test, Y_train, Y_test = train_test_split(X, Y, test_size = 0.3, random_state = seed, shuffle=True)\n",
    "\n",
    "#Scale based on training set \n",
    "X_test = scale(X_test,np.min(X_train,axis = 0),np.max(X_train, axis=0))\n",
    "X_train = scale(X_train, np.min(X_train, axis = 0),np.max(X_train, axis = 0 ))"
   ]
  },
  {
   "cell_type": "code",
   "execution_count": 7,
   "metadata": {},
   "outputs": [],
   "source": [
    "#Define K fold\n",
    "kfold = KFold(n_splits=num_folds,shuffle=True,random_state = seed)\n",
    "\n",
    "#Define model constructor\n",
    "def build_model(width_of_hidden_layer):\n",
    "    #Model definition\n",
    "    model = keras.Sequential()\n",
    "    model.add(keras.layers.Dense(width_of_hidden_layer, activation = 'relu',input_dim = num_attributes,kernel_regularizer=keras.regularizers.l2(weight_decay)))\n",
    "    model.add(keras.layers.Dense(NUM_CLASSES, activation ='softmax'))\n",
    "\n",
    "    #default of sgd is lr = 0.01 so no need specify\n",
    "    model.compile(optimizer='sgd',\n",
    "                 loss = keras.losses.SparseCategoricalCrossentropy(),\n",
    "                 metrics=['accuracy'])\n",
    "    return model"
   ]
  },
  {
   "cell_type": "code",
   "execution_count": 8,
   "metadata": {},
   "outputs": [
    {
     "name": "stdout",
     "output_type": "stream",
     "text": [
      "Best accuracy of num_neuron 5, fold 0: 0.9060\n",
      "Best accuracy of num_neuron 5, fold 1: 0.9362\n",
      "Best accuracy of num_neuron 5, fold 2: 0.8926\n",
      "Best accuracy of num_neuron 5, fold 3: 0.9158\n",
      "Best accuracy of num_neuron 5, fold 4: 0.8822\n",
      "90.66% (+/- 1.87%)\n",
      "0.2384 (+/- 0.0327)\n",
      "Best accuracy of num_neuron 10, fold 0: 0.9027\n",
      "Best accuracy of num_neuron 10, fold 1: 0.9430\n",
      "Best accuracy of num_neuron 10, fold 2: 0.8926\n",
      "Best accuracy of num_neuron 10, fold 3: 0.9057\n",
      "Best accuracy of num_neuron 10, fold 4: 0.9192\n",
      "91.26% (+/- 1.74%)\n",
      "0.2328 (+/- 0.0307)\n",
      "Best accuracy of num_neuron 15, fold 0: 0.8993\n",
      "Best accuracy of num_neuron 15, fold 1: 0.9396\n",
      "Best accuracy of num_neuron 15, fold 2: 0.8893\n",
      "Best accuracy of num_neuron 15, fold 3: 0.9024\n",
      "Best accuracy of num_neuron 15, fold 4: 0.8956\n",
      "90.52% (+/- 1.77%)\n",
      "0.2379 (+/- 0.0353)\n",
      "Best accuracy of num_neuron 20, fold 0: 0.9161\n",
      "Best accuracy of num_neuron 20, fold 1: 0.9329\n",
      "Best accuracy of num_neuron 20, fold 2: 0.8859\n",
      "Best accuracy of num_neuron 20, fold 3: 0.9057\n",
      "Best accuracy of num_neuron 20, fold 4: 0.8923\n",
      "90.66% (+/- 1.68%)\n",
      "0.2334 (+/- 0.0400)\n",
      "Best accuracy of num_neuron 25, fold 0: 0.8960\n",
      "Best accuracy of num_neuron 25, fold 1: 0.9396\n",
      "Best accuracy of num_neuron 25, fold 2: 0.8826\n",
      "Best accuracy of num_neuron 25, fold 3: 0.9091\n",
      "Best accuracy of num_neuron 25, fold 4: 0.8923\n",
      "90.39% (+/- 1.98%)\n",
      "0.2381 (+/- 0.0363)\n"
     ]
    }
   ],
   "source": [
    "for num_neuron in num_neurons:\n",
    "    fold = 0\n",
    "    neuron_histories = {}\n",
    "    model_accuracies = []\n",
    "    model_losses = []\n",
    "    \n",
    "    for train_idx, test_idx in kfold.split(X_train,Y_train):\n",
    "        #Use early stopping to prevents overfitting\n",
    "        early_stopper = keras.callbacks.EarlyStopping(monitor='val_loss',patience=20)\n",
    "        fold_csv_logger = keras.callbacks.CSVLogger('./early_stopped/3A_fold_%s_neuron_%s.csv' % (fold,num_neuron))\n",
    "        callbacks = [fold_csv_logger,early_stopper]\n",
    "        #Build model and fit for training\n",
    "        model = build_model(num_neuron)\n",
    "        neuron_histories['fold_%s'%fold] = model.fit(X_train[train_idx],Y_train[train_idx],\n",
    "                                                   validation_data = (X_train[test_idx],Y_train[test_idx]),\n",
    "                                                   epochs = epochs,\n",
    "                                                   verbose = 0,\n",
    "                                                   batch_size=batch_size,\n",
    "                                                   callbacks=callbacks)\n",
    "        \n",
    "        #plot_acc_and_save(neuron_histories['fold_%s'%fold],num_neuron,fold)\n",
    "        #plot_loss_and_save(neuron_histories['fold_%s'%fold],num_neuron,fold)\n",
    "        \n",
    "        best_accuracy = max(neuron_histories['fold_%s'%fold].history['val_accuracy'])\n",
    "        best_loss = min(neuron_histories['fold_%s'%fold].history['val_loss'])\n",
    "        \n",
    "        #Evaluate only by models\n",
    "        print(\"Best accuracy of num_neuron %s, fold %s: %.4f\" %(num_neuron,fold,best_accuracy))\n",
    "        \n",
    "        model_accuracies.append(best_accuracy*100)\n",
    "        model_losses.append(best_loss)\n",
    "        \n",
    "        fold += 1 #Update fold number\n",
    "                                                    \n",
    "    #Update history of this num_neuron into main history\n",
    "    histories['num_neuron_%s_histories'%num_neuron]=neuron_histories\n",
    "    #Num_neuron performance at 1500 epoch of training:\n",
    "    performances['num_neuron_%s'%num_neuron]=model_accuracies\n",
    "    losses['num_neuron_%s'%num_neuron]=model_losses\n",
    "    print(\"%.2f%% (+/- %.2f%%)\"%(np.mean(model_accuracies),np.std(model_accuracies)))\n",
    "    print(\"%.4f (+/- %.4f)\" % (np.mean(model_losses), np.std(model_losses)))"
   ]
  },
  {
   "cell_type": "code",
   "execution_count": 9,
   "metadata": {},
   "outputs": [
    {
     "data": {
      "image/png": "[encoded data removed]",
      "text/plain": [
       "<Figure size 432x288 with 1 Axes>"
      ]
     },
     "metadata": {
      "needs_background": "light"
     },
     "output_type": "display_data"
    }
   ],
   "source": [
    "plt.plot(num_neurons,[0.9066,0.9126,0.9052,0.9066,0.9039],linestyle='None',marker = 'x')\n",
    "plt.title('mean accuracy vs num neurons in hidden layer')\n",
    "plt.ylabel('mean accuracy')\n",
    "plt.xlabel('number of neurons')\n",
    "plt.savefig('./early_stopped/mean_accuracy.png')\n",
    "plt.show()"
   ]
  },
  {
   "cell_type": "code",
   "execution_count": null,
   "metadata": {},
   "outputs": [],
   "source": []
  }
 ],
 "metadata": {
  "kernelspec": {
   "display_name": "Python 3",
   "language": "python",
   "name": "python3"
  },
  "language_info": {
   "codemirror_mode": {
    "name": "ipython",
    "version": 3
   },
   "file_extension": ".py",
   "mimetype": "text/x-python",
   "name": "python",
   "nbconvert_exporter": "python",
   "pygments_lexer": "ipython3",
   "version": "3.8.2"
  }
 },
 "nbformat": 4,
 "nbformat_minor": 4
}
