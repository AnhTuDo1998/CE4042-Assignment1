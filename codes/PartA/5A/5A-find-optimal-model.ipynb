{
 "cells": [
  {
   "cell_type": "code",
   "execution_count": 1,
   "metadata": {},
   "outputs": [],
   "source": [
    "import tensorflow as tf\n",
    "from tensorflow import keras\n",
    "import numpy as np\n",
    "import matplotlib.pyplot as plt\n",
    "\n",
    "from sklearn.model_selection import train_test_split, KFold\n",
    "\n",
    "import os\n",
    "if not os.path.isdir('figures'):\n",
    "    os.makedirs('figures')\n",
    "if not os.path.isdir('early_stopped'):\n",
    "    os.makedirs('early_stopped')"
   ]
  },
  {
   "cell_type": "code",
   "execution_count": 2,
   "metadata": {},
   "outputs": [],
   "source": [
    "# scaler for data\n",
    "def scale(X, X_min, X_max):\n",
    "    return (X - X_min)/(X_max-X_min)"
   ]
  },
  {
   "cell_type": "code",
   "execution_count": 3,
   "metadata": {},
   "outputs": [],
   "source": [
    "NUM_CLASSES = 3\n",
    "\n",
    "epochs = 1500\n",
    "batch_size = 32\n",
    "num_neurons = 10\n",
    "num_folds=5\n",
    "seed = 10\n",
    "\n",
    "num_attributes = 21\n",
    "\n",
    "weight_decay = 1e-6\n",
    "\n",
    "np.random.seed(seed)\n",
    "tf.random.set_seed(seed)\n",
    "\n",
    "histories={}"
   ]
  },
  {
   "cell_type": "code",
   "execution_count": 4,
   "metadata": {},
   "outputs": [],
   "source": [
    "dataset = np.genfromtxt('ctg_data_cleaned.csv', delimiter= ',')\n",
    "X, Y = dataset[1:,:21], dataset[1:,-1].astype(int)\n",
    "Y = Y - 1 #For python that start from 0\n",
    "\n",
    "#Split to train and test\n",
    "X_train, X_test, Y_train, Y_test = train_test_split(X, Y, test_size = 0.3, random_state = seed, shuffle=True)\n",
    "\n",
    "#Scale based on training set \n",
    "X_test = scale(X_test,np.min(X_train,axis = 0),np.max(X_train, axis=0))\n",
    "X_train = scale(X_train, np.min(X_train, axis = 0),np.max(X_train, axis = 0 ))"
   ]
  },
  {
   "cell_type": "code",
   "execution_count": 5,
   "metadata": {},
   "outputs": [],
   "source": [
    "#Define K fold\n",
    "kfold = KFold(n_splits=num_folds,shuffle=True,random_state = seed)\n",
    "\n",
    "def build_model():\n",
    "    #Model definition\n",
    "    model = keras.Sequential()\n",
    "    model.add(keras.layers.Dense(num_neurons, activation = 'relu',input_dim = num_attributes,kernel_regularizer=keras.regularizers.l2(weight_decay)))\n",
    "    model.add(keras.layers.Dense(num_neurons, activation = 'relu',kernel_regularizer=keras.regularizers.l2(weight_decay)))\n",
    "    model.add(keras.layers.Dense(NUM_CLASSES, activation ='softmax'))\n",
    "\n",
    "    #default of sgd is lr = 0.01 so no need specify\n",
    "    model.compile(optimizer='sgd',\n",
    "                 loss = keras.losses.SparseCategoricalCrossentropy(),\n",
    "                 metrics=['accuracy'])\n",
    "    \n",
    "    return model"
   ]
  },
  {
   "cell_type": "code",
   "execution_count": 6,
   "metadata": {},
   "outputs": [
    {
     "name": "stdout",
     "output_type": "stream",
     "text": [
      "Best accuracy of 4 layers, fold 0: 0.8993\n",
      "Best accuracy of 4 layers, fold 1: 0.9396\n",
      "Best accuracy of 4 layers, fold 2: 0.8859\n",
      "Best accuracy of 4 layers, fold 3: 0.9158\n",
      "Best accuracy of 4 layers, fold 4: 0.8956\n",
      "90.73% (+/- 1.88%)\n"
     ]
    }
   ],
   "source": [
    "fold = 0\n",
    "model_accuracies = []\n",
    "model_losses = []\n",
    "\n",
    "for train_idx, test_idx in kfold.split(X_train,Y_train):\n",
    "        fold_csv_logger = keras.callbacks.CSVLogger('./early_stopped/5A_fold_%s.csv' % (fold))\n",
    "        #to prevent overfitting, use early callbacks\n",
    "        early_callback = keras.callbacks.EarlyStopping(monitor = 'val_loss', patience = 20)\n",
    "        callbacks = [fold_csv_logger,early_callback]\n",
    "        #Build model and fit for training\n",
    "        model = build_model()\n",
    "        results = model.fit(X_train[train_idx],Y_train[train_idx],\n",
    "                                                   validation_data = (X_train[test_idx],Y_train[test_idx]),\n",
    "                                                   epochs = epochs,\n",
    "                                                   verbose = 0,\n",
    "                                                   batch_size=batch_size,\n",
    "                                                   callbacks=callbacks)\n",
    "        \n",
    "        best_accuracy = max(results.history['val_accuracy'])\n",
    "        best_loss = min(results.history['val_loss'])\n",
    "        \n",
    "        #Evaluate only by models\n",
    "        print(\"Best accuracy of 4 layers, fold %s: %.4f\" %(fold,best_accuracy))\n",
    "        \n",
    "        model_accuracies.append(best_accuracy*100)\n",
    "        model_losses.append(best_loss)\n",
    "        \n",
    "        fold += 1 #Update fold number\n",
    "        \n",
    "print(\"%.2f%% (+/- %.2f%%)\"%(np.mean(model_accuracies),np.std(model_accuracies)))"
   ]
  },
  {
   "cell_type": "code",
   "execution_count": 7,
   "metadata": {},
   "outputs": [
    {
     "data": {
      "image/png": "[encoded data removed]",
      "text/plain": [
       "<Figure size 432x288 with 1 Axes>"
      ]
     },
     "metadata": {
      "needs_background": "light"
     },
     "output_type": "display_data"
    }
   ],
   "source": [
    "#From question 4, the optimal 3 layer model 5 fold statistics are\n",
    "#[0.9027,0.9463,0.8993,0.9057,0.8990], mean = 0.9086\n",
    "plt.plot([3,4],[0.9086,0.9073],linestyle='None',marker = 'x')\n",
    "plt.title('mean accuracy vs number of layers')\n",
    "plt.ylabel('mean accuracy')\n",
    "plt.xlabel('num of layers')\n",
    "plt.savefig('./early_stopped/mean_accuracy.png')\n",
    "plt.show()"
   ]
  },
  {
   "cell_type": "code",
   "execution_count": null,
   "metadata": {},
   "outputs": [],
   "source": []
  }
 ],
 "metadata": {
  "kernelspec": {
   "display_name": "Python 3",
   "language": "python",
   "name": "python3"
  },
  "language_info": {
   "codemirror_mode": {
    "name": "ipython",
    "version": 3
   },
   "file_extension": ".py",
   "mimetype": "text/x-python",
   "name": "python",
   "nbconvert_exporter": "python",
   "pygments_lexer": "ipython3",
   "version": "3.8.2"
  }
 },
 "nbformat": 4,
 "nbformat_minor": 4
}
